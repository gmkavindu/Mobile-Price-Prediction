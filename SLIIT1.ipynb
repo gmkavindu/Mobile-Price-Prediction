import pandas as pd
from sklearn.model_selection import train_test_split

# If the CSV file was uploaded with the name 'data.csv'
file_path = '/content/Mobile_Price_Classification-220531-204702.csv'
# Read the CSV file into a DataFrame
df = pd.read_csv(file_path)
print(df.head())

# Define the features (X) and the target variable (y)
X = df.drop('price_range', axis=1)  # Replace 'target_column_name' with the actual name of your target column
y = df['price_range']

# Split the data into training and testing sets with 75% for training and 25% for testing
X_train, X_test, y_train, y_test = train_test_split(X, y, test_size=0.25, random_state=42)


print("Shape of X_train:", X_train.shape)
print("Shape of X_test:", X_test.shape)
print("Shape of y_train:", y_train.shape)
print("Shape of y_test:", y_test.shape)


import tensorflow as tf
from sklearn.datasets import load_iris
from sklearn.model_selection import train_test_split
from sklearn.preprocessing import StandardScaler


# Load the Iris dataset
data = load_iris()
X, y = data.data, data.target


y_binary = [1 if label == 0 else 0 for label in y]

scaler = StandardScaler()
X_train = scaler.fit_transform(X_train)
X_test = scaler.transform(X_test)

# Define the ANN model
model = tf.keras.Sequential([
    tf.keras.layers.Dense(8, activation='relu', input_shape=(X_train.shape[1],)),
    tf.keras.layers.Dense(4, activation='relu'),
    tf.keras.layers.Dense(1, activation='sigmoid')
])


# Compile the model
model.compile(optimizer='adam', loss='binary_crossentropy', metrics=['accuracy'])

# Train the model
model.fit(X_train, y_train, epochs=100, batch_size=32, validation_split=0.25)

# Save the model weights
model.save_weights('ann_model_weights.h5')

